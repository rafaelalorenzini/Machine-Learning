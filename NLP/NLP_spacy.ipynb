{
  "nbformat": 4,
  "nbformat_minor": 0,
  "metadata": {
    "colab": {
      "name": "NLP - spacy.ipynb",
      "provenance": [],
      "authorship_tag": "ABX9TyPBUe1gin1zTQ4qkX3tTM05"
    },
    "kernelspec": {
      "name": "python3",
      "display_name": "Python 3"
    },
    "language_info": {
      "name": "python"
    }
  },
  "cells": [
    {
      "cell_type": "code",
      "source": [
        "!pip install -U spacy==3.3.0"
      ],
      "metadata": {
        "colab": {
          "base_uri": "https://localhost:8080/"
        },
        "id": "jlPfprQ7g4_x",
        "outputId": "ab46763a-15f6-42f4-f357-d615d4279b45"
      },
      "execution_count": 42,
      "outputs": [
        {
          "output_type": "stream",
          "name": "stdout",
          "text": [
            "Requirement already satisfied: spacy==3.3.0 in /usr/local/lib/python3.7/dist-packages (3.3.0)\n",
            "Requirement already satisfied: catalogue<2.1.0,>=2.0.6 in /usr/local/lib/python3.7/dist-packages (from spacy==3.3.0) (2.0.7)\n",
            "Requirement already satisfied: pathy>=0.3.5 in /usr/local/lib/python3.7/dist-packages (from spacy==3.3.0) (0.6.1)\n",
            "Requirement already satisfied: packaging>=20.0 in /usr/local/lib/python3.7/dist-packages (from spacy==3.3.0) (21.3)\n",
            "Requirement already satisfied: requests<3.0.0,>=2.13.0 in /usr/local/lib/python3.7/dist-packages (from spacy==3.3.0) (2.23.0)\n",
            "Requirement already satisfied: blis<0.8.0,>=0.4.0 in /usr/local/lib/python3.7/dist-packages (from spacy==3.3.0) (0.4.1)\n",
            "Requirement already satisfied: typing-extensions<4.0.0.0,>=3.7.4 in /usr/local/lib/python3.7/dist-packages (from spacy==3.3.0) (3.10.0.2)\n",
            "Requirement already satisfied: numpy>=1.15.0 in /usr/local/lib/python3.7/dist-packages (from spacy==3.3.0) (1.21.6)\n",
            "Requirement already satisfied: jinja2 in /usr/local/lib/python3.7/dist-packages (from spacy==3.3.0) (2.11.3)\n",
            "Requirement already satisfied: pydantic!=1.8,!=1.8.1,<1.9.0,>=1.7.4 in /usr/local/lib/python3.7/dist-packages (from spacy==3.3.0) (1.8.2)\n",
            "Requirement already satisfied: spacy-loggers<2.0.0,>=1.0.0 in /usr/local/lib/python3.7/dist-packages (from spacy==3.3.0) (1.0.2)\n",
            "Requirement already satisfied: setuptools in /usr/local/lib/python3.7/dist-packages (from spacy==3.3.0) (57.4.0)\n",
            "Requirement already satisfied: wasabi<1.1.0,>=0.9.1 in /usr/local/lib/python3.7/dist-packages (from spacy==3.3.0) (0.9.1)\n",
            "Requirement already satisfied: srsly<3.0.0,>=2.4.3 in /usr/local/lib/python3.7/dist-packages (from spacy==3.3.0) (2.4.3)\n",
            "Requirement already satisfied: langcodes<4.0.0,>=3.2.0 in /usr/local/lib/python3.7/dist-packages (from spacy==3.3.0) (3.3.0)\n",
            "Requirement already satisfied: spacy-legacy<3.1.0,>=3.0.9 in /usr/local/lib/python3.7/dist-packages (from spacy==3.3.0) (3.0.9)\n",
            "Requirement already satisfied: tqdm<5.0.0,>=4.38.0 in /usr/local/lib/python3.7/dist-packages (from spacy==3.3.0) (4.64.0)\n",
            "Requirement already satisfied: thinc<8.1.0,>=8.0.14 in /usr/local/lib/python3.7/dist-packages (from spacy==3.3.0) (8.0.15)\n",
            "Requirement already satisfied: preshed<3.1.0,>=3.0.2 in /usr/local/lib/python3.7/dist-packages (from spacy==3.3.0) (3.0.6)\n",
            "Requirement already satisfied: murmurhash<1.1.0,>=0.28.0 in /usr/local/lib/python3.7/dist-packages (from spacy==3.3.0) (1.0.7)\n",
            "Requirement already satisfied: cymem<2.1.0,>=2.0.2 in /usr/local/lib/python3.7/dist-packages (from spacy==3.3.0) (2.0.6)\n",
            "Requirement already satisfied: typer<0.5.0,>=0.3.0 in /usr/local/lib/python3.7/dist-packages (from spacy==3.3.0) (0.4.1)\n",
            "Requirement already satisfied: zipp>=0.5 in /usr/local/lib/python3.7/dist-packages (from catalogue<2.1.0,>=2.0.6->spacy==3.3.0) (3.8.0)\n",
            "Requirement already satisfied: pyparsing!=3.0.5,>=2.0.2 in /usr/local/lib/python3.7/dist-packages (from packaging>=20.0->spacy==3.3.0) (3.0.8)\n",
            "Requirement already satisfied: smart-open<6.0.0,>=5.0.0 in /usr/local/lib/python3.7/dist-packages (from pathy>=0.3.5->spacy==3.3.0) (5.2.1)\n",
            "Requirement already satisfied: certifi>=2017.4.17 in /usr/local/lib/python3.7/dist-packages (from requests<3.0.0,>=2.13.0->spacy==3.3.0) (2021.10.8)\n",
            "Requirement already satisfied: idna<3,>=2.5 in /usr/local/lib/python3.7/dist-packages (from requests<3.0.0,>=2.13.0->spacy==3.3.0) (2.10)\n",
            "Requirement already satisfied: urllib3!=1.25.0,!=1.25.1,<1.26,>=1.21.1 in /usr/local/lib/python3.7/dist-packages (from requests<3.0.0,>=2.13.0->spacy==3.3.0) (1.24.3)\n",
            "Requirement already satisfied: chardet<4,>=3.0.2 in /usr/local/lib/python3.7/dist-packages (from requests<3.0.0,>=2.13.0->spacy==3.3.0) (3.0.4)\n",
            "Requirement already satisfied: click<9.0.0,>=7.1.1 in /usr/local/lib/python3.7/dist-packages (from typer<0.5.0,>=0.3.0->spacy==3.3.0) (7.1.2)\n",
            "Requirement already satisfied: MarkupSafe>=0.23 in /usr/local/lib/python3.7/dist-packages (from jinja2->spacy==3.3.0) (2.0.1)\n"
          ]
        }
      ]
    },
    {
      "cell_type": "code",
      "execution_count": 43,
      "metadata": {
        "colab": {
          "base_uri": "https://localhost:8080/"
        },
        "id": "yyXqwQ2egQr7",
        "outputId": "4b773144-075d-440b-874c-90afc67b7ffa"
      },
      "outputs": [
        {
          "output_type": "stream",
          "name": "stdout",
          "text": [
            "Collecting pt-core-news-lg==3.3.0\n",
            "  Downloading https://github.com/explosion/spacy-models/releases/download/pt_core_news_lg-3.3.0/pt_core_news_lg-3.3.0-py3-none-any.whl (568.2 MB)\n",
            "\u001b[K     |████████████████████████████████| 568.2 MB 9.1 kB/s \n",
            "\u001b[?25hRequirement already satisfied: spacy<3.4.0,>=3.3.0.dev0 in /usr/local/lib/python3.7/dist-packages (from pt-core-news-lg==3.3.0) (3.3.0)\n",
            "Requirement already satisfied: packaging>=20.0 in /usr/local/lib/python3.7/dist-packages (from spacy<3.4.0,>=3.3.0.dev0->pt-core-news-lg==3.3.0) (21.3)\n",
            "Requirement already satisfied: langcodes<4.0.0,>=3.2.0 in /usr/local/lib/python3.7/dist-packages (from spacy<3.4.0,>=3.3.0.dev0->pt-core-news-lg==3.3.0) (3.3.0)\n",
            "Requirement already satisfied: preshed<3.1.0,>=3.0.2 in /usr/local/lib/python3.7/dist-packages (from spacy<3.4.0,>=3.3.0.dev0->pt-core-news-lg==3.3.0) (3.0.6)\n",
            "Requirement already satisfied: thinc<8.1.0,>=8.0.14 in /usr/local/lib/python3.7/dist-packages (from spacy<3.4.0,>=3.3.0.dev0->pt-core-news-lg==3.3.0) (8.0.15)\n",
            "Requirement already satisfied: typer<0.5.0,>=0.3.0 in /usr/local/lib/python3.7/dist-packages (from spacy<3.4.0,>=3.3.0.dev0->pt-core-news-lg==3.3.0) (0.4.1)\n",
            "Requirement already satisfied: blis<0.8.0,>=0.4.0 in /usr/local/lib/python3.7/dist-packages (from spacy<3.4.0,>=3.3.0.dev0->pt-core-news-lg==3.3.0) (0.4.1)\n",
            "Requirement already satisfied: wasabi<1.1.0,>=0.9.1 in /usr/local/lib/python3.7/dist-packages (from spacy<3.4.0,>=3.3.0.dev0->pt-core-news-lg==3.3.0) (0.9.1)\n",
            "Requirement already satisfied: pathy>=0.3.5 in /usr/local/lib/python3.7/dist-packages (from spacy<3.4.0,>=3.3.0.dev0->pt-core-news-lg==3.3.0) (0.6.1)\n",
            "Requirement already satisfied: cymem<2.1.0,>=2.0.2 in /usr/local/lib/python3.7/dist-packages (from spacy<3.4.0,>=3.3.0.dev0->pt-core-news-lg==3.3.0) (2.0.6)\n",
            "Requirement already satisfied: setuptools in /usr/local/lib/python3.7/dist-packages (from spacy<3.4.0,>=3.3.0.dev0->pt-core-news-lg==3.3.0) (57.4.0)\n",
            "Requirement already satisfied: srsly<3.0.0,>=2.4.3 in /usr/local/lib/python3.7/dist-packages (from spacy<3.4.0,>=3.3.0.dev0->pt-core-news-lg==3.3.0) (2.4.3)\n",
            "Requirement already satisfied: requests<3.0.0,>=2.13.0 in /usr/local/lib/python3.7/dist-packages (from spacy<3.4.0,>=3.3.0.dev0->pt-core-news-lg==3.3.0) (2.23.0)\n",
            "Requirement already satisfied: numpy>=1.15.0 in /usr/local/lib/python3.7/dist-packages (from spacy<3.4.0,>=3.3.0.dev0->pt-core-news-lg==3.3.0) (1.21.6)\n",
            "Requirement already satisfied: spacy-loggers<2.0.0,>=1.0.0 in /usr/local/lib/python3.7/dist-packages (from spacy<3.4.0,>=3.3.0.dev0->pt-core-news-lg==3.3.0) (1.0.2)\n",
            "Requirement already satisfied: tqdm<5.0.0,>=4.38.0 in /usr/local/lib/python3.7/dist-packages (from spacy<3.4.0,>=3.3.0.dev0->pt-core-news-lg==3.3.0) (4.64.0)\n",
            "Requirement already satisfied: jinja2 in /usr/local/lib/python3.7/dist-packages (from spacy<3.4.0,>=3.3.0.dev0->pt-core-news-lg==3.3.0) (2.11.3)\n",
            "Requirement already satisfied: murmurhash<1.1.0,>=0.28.0 in /usr/local/lib/python3.7/dist-packages (from spacy<3.4.0,>=3.3.0.dev0->pt-core-news-lg==3.3.0) (1.0.7)\n",
            "Requirement already satisfied: spacy-legacy<3.1.0,>=3.0.9 in /usr/local/lib/python3.7/dist-packages (from spacy<3.4.0,>=3.3.0.dev0->pt-core-news-lg==3.3.0) (3.0.9)\n",
            "Requirement already satisfied: typing-extensions<4.0.0.0,>=3.7.4 in /usr/local/lib/python3.7/dist-packages (from spacy<3.4.0,>=3.3.0.dev0->pt-core-news-lg==3.3.0) (3.10.0.2)\n",
            "Requirement already satisfied: catalogue<2.1.0,>=2.0.6 in /usr/local/lib/python3.7/dist-packages (from spacy<3.4.0,>=3.3.0.dev0->pt-core-news-lg==3.3.0) (2.0.7)\n",
            "Requirement already satisfied: pydantic!=1.8,!=1.8.1,<1.9.0,>=1.7.4 in /usr/local/lib/python3.7/dist-packages (from spacy<3.4.0,>=3.3.0.dev0->pt-core-news-lg==3.3.0) (1.8.2)\n",
            "Requirement already satisfied: zipp>=0.5 in /usr/local/lib/python3.7/dist-packages (from catalogue<2.1.0,>=2.0.6->spacy<3.4.0,>=3.3.0.dev0->pt-core-news-lg==3.3.0) (3.8.0)\n",
            "Requirement already satisfied: pyparsing!=3.0.5,>=2.0.2 in /usr/local/lib/python3.7/dist-packages (from packaging>=20.0->spacy<3.4.0,>=3.3.0.dev0->pt-core-news-lg==3.3.0) (3.0.8)\n",
            "Requirement already satisfied: smart-open<6.0.0,>=5.0.0 in /usr/local/lib/python3.7/dist-packages (from pathy>=0.3.5->spacy<3.4.0,>=3.3.0.dev0->pt-core-news-lg==3.3.0) (5.2.1)\n",
            "Requirement already satisfied: idna<3,>=2.5 in /usr/local/lib/python3.7/dist-packages (from requests<3.0.0,>=2.13.0->spacy<3.4.0,>=3.3.0.dev0->pt-core-news-lg==3.3.0) (2.10)\n",
            "Requirement already satisfied: urllib3!=1.25.0,!=1.25.1,<1.26,>=1.21.1 in /usr/local/lib/python3.7/dist-packages (from requests<3.0.0,>=2.13.0->spacy<3.4.0,>=3.3.0.dev0->pt-core-news-lg==3.3.0) (1.24.3)\n",
            "Requirement already satisfied: certifi>=2017.4.17 in /usr/local/lib/python3.7/dist-packages (from requests<3.0.0,>=2.13.0->spacy<3.4.0,>=3.3.0.dev0->pt-core-news-lg==3.3.0) (2021.10.8)\n",
            "Requirement already satisfied: chardet<4,>=3.0.2 in /usr/local/lib/python3.7/dist-packages (from requests<3.0.0,>=2.13.0->spacy<3.4.0,>=3.3.0.dev0->pt-core-news-lg==3.3.0) (3.0.4)\n",
            "Requirement already satisfied: click<9.0.0,>=7.1.1 in /usr/local/lib/python3.7/dist-packages (from typer<0.5.0,>=0.3.0->spacy<3.4.0,>=3.3.0.dev0->pt-core-news-lg==3.3.0) (7.1.2)\n",
            "Requirement already satisfied: MarkupSafe>=0.23 in /usr/local/lib/python3.7/dist-packages (from jinja2->spacy<3.4.0,>=3.3.0.dev0->pt-core-news-lg==3.3.0) (2.0.1)\n",
            "\u001b[38;5;2m✔ Download and installation successful\u001b[0m\n",
            "You can now load the package via spacy.load('pt_core_news_lg')\n"
          ]
        }
      ],
      "source": [
        "!python -m spacy download 'pt_core_news_lg'"
      ]
    },
    {
      "cell_type": "code",
      "source": [
        "import spacy"
      ],
      "metadata": {
        "id": "2Us0Z6RhgaiC"
      },
      "execution_count": 44,
      "outputs": []
    },
    {
      "cell_type": "code",
      "source": [
        "nlp = spacy.load('pt_core_news_lg')"
      ],
      "metadata": {
        "id": "5pmP_Fr2hv2G"
      },
      "execution_count": 45,
      "outputs": []
    },
    {
      "cell_type": "code",
      "source": [
        "type(nlp)"
      ],
      "metadata": {
        "colab": {
          "base_uri": "https://localhost:8080/"
        },
        "id": "JO4jY23th5ME",
        "outputId": "1e21f522-19bc-4b09-af63-f57b6aeae321"
      },
      "execution_count": 46,
      "outputs": [
        {
          "output_type": "execute_result",
          "data": {
            "text/plain": [
              "spacy.lang.pt.Portuguese"
            ]
          },
          "metadata": {},
          "execution_count": 46
        }
      ]
    },
    {
      "cell_type": "code",
      "source": [
        "nlp.pipe_names"
      ],
      "metadata": {
        "colab": {
          "base_uri": "https://localhost:8080/"
        },
        "id": "imDyGJrRiQqL",
        "outputId": "05382942-7f36-4f8a-9f98-d5454104e35a"
      },
      "execution_count": 47,
      "outputs": [
        {
          "output_type": "execute_result",
          "data": {
            "text/plain": [
              "['tok2vec', 'morphologizer', 'parser', 'lemmatizer', 'attribute_ruler', 'ner']"
            ]
          },
          "metadata": {},
          "execution_count": 47
        }
      ]
    },
    {
      "cell_type": "code",
      "source": [
        "documento = nlp('As ações do Magazine Luiza S.A., França, Brasil, acumularam baixa de 70% ao ano. Assim já devolveram todos os ganhos do período da pandemia')"
      ],
      "metadata": {
        "id": "pgaZMpfyiWWp"
      },
      "execution_count": 48,
      "outputs": []
    },
    {
      "cell_type": "code",
      "source": [
        "len(documento.vocab)"
      ],
      "metadata": {
        "colab": {
          "base_uri": "https://localhost:8080/"
        },
        "id": "G3PrA35Vit7_",
        "outputId": "e438b0cb-0900-42ed-db3f-a2a1ac89ffb8"
      },
      "execution_count": 49,
      "outputs": [
        {
          "output_type": "execute_result",
          "data": {
            "text/plain": [
              "375"
            ]
          },
          "metadata": {},
          "execution_count": 49
        }
      ]
    },
    {
      "cell_type": "code",
      "source": [
        "type(documento)"
      ],
      "metadata": {
        "colab": {
          "base_uri": "https://localhost:8080/"
        },
        "id": "rzfNLaZbixMp",
        "outputId": "c15f43a1-6196-404d-e21e-e8cc7bcdff4e"
      },
      "execution_count": 50,
      "outputs": [
        {
          "output_type": "execute_result",
          "data": {
            "text/plain": [
              "spacy.tokens.doc.Doc"
            ]
          },
          "metadata": {},
          "execution_count": 50
        }
      ]
    },
    {
      "cell_type": "code",
      "source": [
        "for token in documento:\n",
        "  print(token.text)"
      ],
      "metadata": {
        "colab": {
          "base_uri": "https://localhost:8080/"
        },
        "id": "CbU8vgxQjiO4",
        "outputId": "6091e4da-547a-4745-fecb-7ce4fb359152"
      },
      "execution_count": 51,
      "outputs": [
        {
          "output_type": "stream",
          "name": "stdout",
          "text": [
            "As\n",
            "ações\n",
            "do\n",
            "Magazine\n",
            "Luiza\n",
            "S.A.\n",
            ",\n",
            "França\n",
            ",\n",
            "Brasil\n",
            ",\n",
            "acumularam\n",
            "baixa\n",
            "de\n",
            "70\n",
            "%\n",
            "ao\n",
            "ano\n",
            ".\n",
            "Assim\n",
            "já\n",
            "devolveram\n",
            "todos\n",
            "os\n",
            "ganhos\n",
            "do\n",
            "período\n",
            "da\n",
            "pandemia\n"
          ]
        }
      ]
    },
    {
      "cell_type": "code",
      "source": [
        "print('Tokens:',[token.text for token in documento])\n",
        "print('Stop word:',[token.is_stop for token in documento])\n",
        "print('Alfanumérico:',[token.is_alpha for token in documento])\n",
        "print('Maiusculo:',[token.is_upper for token in documento])\n",
        "print('Pontuação:',[token.is_punct for token in documento])\n",
        "print('Número:',[token.like_num for token in documento])\n",
        "print('Sentença inicial:',[token.is_sent_start for token in documento])"
      ],
      "metadata": {
        "colab": {
          "base_uri": "https://localhost:8080/"
        },
        "id": "rwBcr7vZkUJ9",
        "outputId": "0a308ce6-5f14-49d2-914e-0f439fd3ce59"
      },
      "execution_count": 52,
      "outputs": [
        {
          "output_type": "stream",
          "name": "stdout",
          "text": [
            "Tokens: ['As', 'ações', 'do', 'Magazine', 'Luiza', 'S.A.', ',', 'França', ',', 'Brasil', ',', 'acumularam', 'baixa', 'de', '70', '%', 'ao', 'ano', '.', 'Assim', 'já', 'devolveram', 'todos', 'os', 'ganhos', 'do', 'período', 'da', 'pandemia']\n",
            "Stop word: [True, False, True, False, False, False, False, False, False, False, False, False, False, True, False, False, True, False, False, True, True, False, True, True, False, True, False, True, False]\n",
            "Alfanumérico: [True, True, True, True, True, False, False, True, False, True, False, True, True, True, False, False, True, True, False, True, True, True, True, True, True, True, True, True, True]\n",
            "Maiusculo: [False, False, False, False, False, True, False, False, False, False, False, False, False, False, False, False, False, False, False, False, False, False, False, False, False, False, False, False, False]\n",
            "Pontuação: [False, False, False, False, False, False, True, False, True, False, True, False, False, False, False, True, False, False, True, False, False, False, False, False, False, False, False, False, False]\n",
            "Número: [False, False, False, False, False, False, False, False, False, False, False, False, False, False, True, False, False, False, False, False, False, False, False, False, False, False, False, False, False]\n",
            "Sentença inicial: [True, False, False, False, False, False, False, False, False, False, False, False, False, False, False, False, False, False, False, True, False, False, False, False, False, False, False, False, False]\n"
          ]
        }
      ]
    },
    {
      "cell_type": "code",
      "source": [
        "print('Tokens:',[token.text for token in documento])\n",
        "print('Formato:',[token.shape_ for token in documento])"
      ],
      "metadata": {
        "colab": {
          "base_uri": "https://localhost:8080/"
        },
        "id": "cCr8q8uonwMm",
        "outputId": "0d8cb72a-9362-41a4-9a70-d55919242411"
      },
      "execution_count": 53,
      "outputs": [
        {
          "output_type": "stream",
          "name": "stdout",
          "text": [
            "Tokens: ['As', 'ações', 'do', 'Magazine', 'Luiza', 'S.A.', ',', 'França', ',', 'Brasil', ',', 'acumularam', 'baixa', 'de', '70', '%', 'ao', 'ano', '.', 'Assim', 'já', 'devolveram', 'todos', 'os', 'ganhos', 'do', 'período', 'da', 'pandemia']\n",
            "Formato: ['Xx', 'xxxx', 'xx', 'Xxxxx', 'Xxxxx', 'X.X.', ',', 'Xxxxx', ',', 'Xxxxx', ',', 'xxxx', 'xxxx', 'xx', 'dd', '%', 'xx', 'xxx', '.', 'Xxxxx', 'xx', 'xxxx', 'xxxx', 'xx', 'xxxx', 'xx', 'xxxx', 'xx', 'xxxx']\n"
          ]
        }
      ]
    },
    {
      "cell_type": "code",
      "source": [
        "for token in documento:\n",
        "  print(token.text, ' - ', token.pos_, ' - ', token.dep_, ' - ', token.lemma_, ' - ',token.shape_) "
      ],
      "metadata": {
        "colab": {
          "base_uri": "https://localhost:8080/"
        },
        "id": "5CzsBUhXoJmi",
        "outputId": "519a5788-fdc1-4914-e91d-fca8028331b7"
      },
      "execution_count": 54,
      "outputs": [
        {
          "output_type": "stream",
          "name": "stdout",
          "text": [
            "As  -  DET  -  det  -  o  -  Xx\n",
            "ações  -  NOUN  -  nsubj  -  ação  -  xxxx\n",
            "do  -  ADP  -  case  -  de o  -  xx\n",
            "Magazine  -  PROPN  -  nmod  -  Magazine  -  Xxxxx\n",
            "Luiza  -  PROPN  -  flat:name  -  Luiza  -  Xxxxx\n",
            "S.A.  -  PROPN  -  flat:name  -  S.A.  -  X.X.\n",
            ",  -  PUNCT  -  punct  -  ,  -  ,\n",
            "França  -  PROPN  -  conj  -  França  -  Xxxxx\n",
            ",  -  PUNCT  -  punct  -  ,  -  ,\n",
            "Brasil  -  PROPN  -  conj  -  Brasil  -  Xxxxx\n",
            ",  -  PUNCT  -  punct  -  ,  -  ,\n",
            "acumularam  -  VERB  -  ROOT  -  acumular  -  xxxx\n",
            "baixa  -  NOUN  -  obj  -  baixa  -  xxxx\n",
            "de  -  ADP  -  case  -  de  -  xx\n",
            "70  -  NUM  -  nummod  -  70  -  dd\n",
            "%  -  SYM  -  nmod  -  %  -  %\n",
            "ao  -  ADP  -  case  -  a o  -  xx\n",
            "ano  -  NOUN  -  obl  -  ano  -  xxx\n",
            ".  -  PUNCT  -  punct  -  .  -  .\n",
            "Assim  -  ADV  -  advmod  -  assim  -  Xxxxx\n",
            "já  -  ADV  -  advmod  -  já  -  xx\n",
            "devolveram  -  VERB  -  ROOT  -  devolver  -  xxxx\n",
            "todos  -  DET  -  det  -  todo  -  xxxx\n",
            "os  -  DET  -  det  -  o  -  xx\n",
            "ganhos  -  NOUN  -  obj  -  ganho  -  xxxx\n",
            "do  -  ADP  -  case  -  de o  -  xx\n",
            "período  -  NOUN  -  nmod  -  período  -  xxxx\n",
            "da  -  ADP  -  case  -  de o  -  xx\n",
            "pandemia  -  NOUN  -  nmod  -  pandemia  -  xxxx\n"
          ]
        }
      ]
    },
    {
      "cell_type": "code",
      "source": [
        "for token in documento:\n",
        "  print(token.text, ' - ', token.morph)"
      ],
      "metadata": {
        "colab": {
          "base_uri": "https://localhost:8080/"
        },
        "id": "REc5ZYO6pFts",
        "outputId": "22988d2b-0e84-4437-d0d5-e83f1e404129"
      },
      "execution_count": 55,
      "outputs": [
        {
          "output_type": "stream",
          "name": "stdout",
          "text": [
            "As  -  Definite=Def|Gender=Fem|Number=Plur|PronType=Art\n",
            "ações  -  Gender=Fem|Number=Plur\n",
            "do  -  Definite=Def|Gender=Masc|Number=Sing|PronType=Art\n",
            "Magazine  -  Gender=Fem|Number=Sing\n",
            "Luiza  -  Gender=Fem|Number=Sing\n",
            "S.A.  -  Number=Sing\n",
            ",  -  \n",
            "França  -  Gender=Fem|Number=Sing\n",
            ",  -  \n",
            "Brasil  -  Gender=Masc|Number=Sing\n",
            ",  -  \n",
            "acumularam  -  Mood=Ind|Number=Plur|Person=3|Tense=Past|VerbForm=Fin\n",
            "baixa  -  Gender=Fem|Number=Sing\n",
            "de  -  \n",
            "70  -  NumType=Card\n",
            "%  -  \n",
            "ao  -  Definite=Def|Gender=Masc|Number=Sing|PronType=Art\n",
            "ano  -  Gender=Masc|Number=Sing\n",
            ".  -  \n",
            "Assim  -  \n",
            "já  -  \n",
            "devolveram  -  Mood=Ind|Number=Plur|Person=3|Tense=Past|VerbForm=Fin\n",
            "todos  -  Gender=Masc|Number=Plur|PronType=Tot\n",
            "os  -  Definite=Def|Gender=Masc|Number=Plur|PronType=Art\n",
            "ganhos  -  Gender=Masc|Number=Plur\n",
            "do  -  Definite=Def|Gender=Masc|Number=Sing|PronType=Art\n",
            "período  -  Gender=Masc|Number=Sing\n",
            "da  -  Definite=Def|Gender=Fem|Number=Sing|PronType=Art\n",
            "pandemia  -  Gender=Fem|Number=Sing\n"
          ]
        }
      ]
    },
    {
      "cell_type": "code",
      "source": [
        "for token in documento:\n",
        "  print(token.text, ' - ', token.tag_)"
      ],
      "metadata": {
        "id": "60tE_96CpSt-",
        "outputId": "1f372631-6911-431c-f59c-51fc9078cf5e",
        "colab": {
          "base_uri": "https://localhost:8080/"
        }
      },
      "execution_count": 56,
      "outputs": [
        {
          "output_type": "stream",
          "name": "stdout",
          "text": [
            "As  -  DET\n",
            "ações  -  NOUN\n",
            "do  -  ADP\n",
            "Magazine  -  PROPN\n",
            "Luiza  -  PROPN\n",
            "S.A.  -  PROPN\n",
            ",  -  PUNCT\n",
            "França  -  PROPN\n",
            ",  -  PUNCT\n",
            "Brasil  -  PROPN\n",
            ",  -  PUNCT\n",
            "acumularam  -  VERB\n",
            "baixa  -  NOUN\n",
            "de  -  ADP\n",
            "70  -  NUM\n",
            "%  -  SYM\n",
            "ao  -  ADP\n",
            "ano  -  NOUN\n",
            ".  -  PUNCT\n",
            "Assim  -  ADV\n",
            "já  -  ADV\n",
            "devolveram  -  VERB\n",
            "todos  -  DET\n",
            "os  -  DET\n",
            "ganhos  -  NOUN\n",
            "do  -  ADP\n",
            "período  -  NOUN\n",
            "da  -  ADP\n",
            "pandemia  -  NOUN\n"
          ]
        }
      ]
    },
    {
      "cell_type": "code",
      "source": [
        "for token in documento:\n",
        "  if token.is_stop:\n",
        "    print('Stop word: ', token.text)"
      ],
      "metadata": {
        "id": "L-9xDkXE_17_",
        "colab": {
          "base_uri": "https://localhost:8080/"
        },
        "outputId": "f932b7cb-81a0-407f-debe-787f6b5121f5"
      },
      "execution_count": 57,
      "outputs": [
        {
          "output_type": "stream",
          "name": "stdout",
          "text": [
            "Stop word:  As\n",
            "Stop word:  do\n",
            "Stop word:  de\n",
            "Stop word:  ao\n",
            "Stop word:  Assim\n",
            "Stop word:  já\n",
            "Stop word:  todos\n",
            "Stop word:  os\n",
            "Stop word:  do\n",
            "Stop word:  da\n"
          ]
        }
      ]
    },
    {
      "cell_type": "code",
      "source": [
        "for words in nlp.Defaults.stop_words:\n",
        "  print(words)"
      ],
      "metadata": {
        "colab": {
          "base_uri": "https://localhost:8080/"
        },
        "id": "V9XCsbR28ukG",
        "outputId": "3a433cae-76dd-4c1d-c2a6-828f9993f86b"
      },
      "execution_count": 58,
      "outputs": [
        {
          "output_type": "stream",
          "name": "stdout",
          "text": [
            "cuja\n",
            "pôde\n",
            "então\n",
            "sei\n",
            "talvez\n",
            "contudo\n",
            "fez\n",
            "partir\n",
            "pois\n",
            "terceira\n",
            "cujo\n",
            "estivemos\n",
            "pelas\n",
            "estivestes\n",
            "vem\n",
            "entre\n",
            "poderá\n",
            "bem\n",
            "pelos\n",
            "tiveram\n",
            "segunda\n",
            "posição\n",
            "neste\n",
            "oitava\n",
            "vezes\n",
            "enquanto\n",
            "forma\n",
            "se\n",
            "estes\n",
            "saber\n",
            "sempre\n",
            "ambos\n",
            "quais\n",
            "pouco\n",
            "parte\n",
            "querem\n",
            "quieta\n",
            "fará\n",
            "da\n",
            "iniciar\n",
            "minhas\n",
            "oito\n",
            "isto\n",
            "nosso\n",
            "está\n",
            "novos\n",
            "duas\n",
            "quinto\n",
            "próximo\n",
            "quem\n",
            "cinco\n",
            "ir\n",
            "sétima\n",
            "sete\n",
            "quarta\n",
            "conselho\n",
            "tais\n",
            "diz\n",
            "somente\n",
            "lado\n",
            "final\n",
            "nesta\n",
            "cento\n",
            "deve\n",
            "estive\n",
            "disso\n",
            "umas\n",
            "ali\n",
            "eu\n",
            "foi\n",
            "próprio\n",
            "dentro\n",
            "têm\n",
            "comprida\n",
            "vocês\n",
            "estiveram\n",
            "naquele\n",
            "sistema\n",
            "acerca\n",
            "onde\n",
            "mil\n",
            "nova\n",
            "mais\n",
            "esse\n",
            "quatro\n",
            "fazem\n",
            "estou\n",
            "baixo\n",
            "essa\n",
            "ontem\n",
            "essas\n",
            "sob\n",
            "tal\n",
            "dar\n",
            "fomos\n",
            "nenhuma\n",
            "quê\n",
            "ela\n",
            "seis\n",
            "ele\n",
            "área\n",
            "esta\n",
            "aí\n",
            "põe\n",
            "para\n",
            "alguns\n",
            "todo\n",
            "estava\n",
            "geral\n",
            "qual\n",
            "ponto\n",
            "foram\n",
            "sem\n",
            "estar\n",
            "cada\n",
            "menos\n",
            "ambas\n",
            "lugar\n",
            "próxima\n",
            "perto\n",
            "tiveste\n",
            "vossas\n",
            "tivestes\n",
            "nada\n",
            "depois\n",
            "portanto\n",
            "questão\n",
            "tem\n",
            "tente\n",
            "esses\n",
            "números\n",
            "pontos\n",
            "ser\n",
            "fazes\n",
            "inicio\n",
            "vós\n",
            "dos\n",
            "do\n",
            "estão\n",
            "conhecida\n",
            "tão\n",
            "posso\n",
            "nas\n",
            "quinze\n",
            "sim\n",
            "fazeis\n",
            "fazia\n",
            "inclusive\n",
            "tive\n",
            "quinta\n",
            "à\n",
            "ainda\n",
            "naquela\n",
            "aquele\n",
            "esteve\n",
            "vossa\n",
            "veja\n",
            "teus\n",
            "dezasseis\n",
            "deverá\n",
            "até\n",
            "qualquer\n",
            "desde\n",
            "des\n",
            "tivemos\n",
            "tenho\n",
            "isso\n",
            "és\n",
            "dessa\n",
            "vais\n",
            "dez\n",
            "maioria\n",
            "novas\n",
            "cima\n",
            "através\n",
            "daquela\n",
            "todos\n",
            "minha\n",
            "porém\n",
            "tendes\n",
            "nossas\n",
            "tipo\n",
            "dizem\n",
            "podem\n",
            "todas\n",
            "era\n",
            "vens\n",
            "máximo\n",
            "fostes\n",
            "menor\n",
            "valor\n",
            "possível\n",
            "novo\n",
            "certeza\n",
            "seus\n",
            "já\n",
            "tentaram\n",
            "dezassete\n",
            "coisa\n",
            "tanta\n",
            "como\n",
            "numa\n",
            "teu\n",
            "meu\n",
            "outras\n",
            "fora\n",
            "a\n",
            "fazemos\n",
            "suas\n",
            "uma\n",
            "terceiro\n",
            "aqueles\n",
            "atrás\n",
            "uns\n",
            "momento\n",
            "me\n",
            "embora\n",
            "aos\n",
            "após\n",
            "obrigado\n",
            "um\n",
            "dão\n",
            "nove\n",
            "daquele\n",
            "tarde\n",
            "aqui\n",
            "cedo\n",
            "das\n",
            "zero\n",
            "desse\n",
            "cá\n",
            "nossos\n",
            "pode\n",
            "for\n",
            "agora\n",
            "você\n",
            "tua\n",
            "muitos\n",
            "também\n",
            "apenas\n",
            "porquê\n",
            "poder\n",
            "vêm\n",
            "algumas\n",
            "são\n",
            "puderam\n",
            "vindo\n",
            "parece\n",
            "mas\n",
            "oitavo\n",
            "mal\n",
            "diante\n",
            "ver\n",
            "eventual\n",
            "foste\n",
            "nesse\n",
            "direita\n",
            "faço\n",
            "debaixo\n",
            "três\n",
            "conhecido\n",
            "tens\n",
            "e\n",
            "meses\n",
            "usa\n",
            "grande\n",
            "este\n",
            "nós\n",
            "o\n",
            "as\n",
            "falta\n",
            "vosso\n",
            "além\n",
            "eles\n",
            "tentei\n",
            "tu\n",
            "exemplo\n",
            "apoia\n",
            "estiveste\n",
            "favor\n",
            "seu\n",
            "usar\n",
            "os\n",
            "contra\n",
            "sois\n",
            "meus\n",
            "vinte\n",
            "vinda\n",
            "muito\n",
            "mesmo\n",
            "num\n",
            "podia\n",
            "devem\n",
            "apoio\n",
            "por\n",
            "quer\n",
            "nível\n",
            "relação\n",
            "em\n",
            "adeus\n",
            "ora\n",
            "quanto\n",
            "onze\n",
            "não\n",
            "estará\n",
            "sobre\n",
            "te\n",
            "vez\n",
            "primeira\n",
            "sua\n",
            "vossos\n",
            "estás\n",
            "toda\n",
            "estado\n",
            "no\n",
            "porquanto\n",
            "ao\n",
            "dá\n",
            "bom\n",
            "caminho\n",
            "pelo\n",
            "grupo\n",
            "apontar\n",
            "ademais\n",
            "irá\n",
            "meio\n",
            "ligado\n",
            "nem\n",
            "pouca\n",
            "elas\n",
            "nunca\n",
            "porque\n",
            "sabe\n",
            "vai\n",
            "corrente\n",
            "faz\n",
            "aquilo\n",
            "tempo\n",
            "possivelmente\n",
            "povo\n",
            "tentar\n",
            "aquelas\n",
            "custa\n",
            "boa\n",
            "ter\n",
            "sétimo\n",
            "com\n",
            "outros\n",
            "fim\n",
            "lá\n",
            "Rafaela\n",
            "quando\n",
            "longe\n",
            "sexto\n",
            "quero\n",
            "local\n",
            "tudo\n",
            "desta\n",
            "dois\n",
            "lhe\n",
            "demais\n",
            "sou\n",
            "vos\n",
            "obrigada\n",
            "algo\n",
            "na\n",
            "nessa\n",
            "primeiro\n",
            "aquela\n",
            "vão\n",
            "quarto\n",
            "põem\n",
            "logo\n",
            "sexta\n",
            "outra\n",
            "fazer\n",
            "teve\n",
            "de\n",
            "doze\n",
            "maior\n",
            "maiorias\n",
            "dezoito\n",
            "tanto\n",
            "segundo\n",
            "bastante\n",
            "último\n",
            "fui\n",
            "comprido\n",
            "nuns\n",
            "que\n",
            "certamente\n",
            "dezanove\n",
            "deste\n",
            "número\n",
            "catorze\n",
            "só\n",
            "nossa\n",
            "assim\n",
            "tuas\n",
            "vários\n",
            "às\n",
            "treze\n",
            "dizer\n",
            "antes\n",
            "estas\n",
            "seria\n",
            "quieto\n",
            "pela\n",
            "somos\n",
            "é\n",
            "nos\n",
            "grandes\n",
            "pegar\n",
            "mês\n",
            "breve\n",
            "ou\n",
            "temos\n"
          ]
        }
      ]
    },
    {
      "cell_type": "code",
      "source": [
        "nlp.Defaults.stop_words.add('Rafaela')\n",
        "nlp.vocab['Rafaela'].is_stop = True"
      ],
      "metadata": {
        "id": "Kcb3dF01855Z"
      },
      "execution_count": 59,
      "outputs": []
    },
    {
      "cell_type": "code",
      "source": [
        "nlp.vocab['Rafaela'].is_stop"
      ],
      "metadata": {
        "colab": {
          "base_uri": "https://localhost:8080/"
        },
        "id": "9tbrOn3M9Hwd",
        "outputId": "b21769a6-c5ce-4858-8a6f-12e88b0c2e4b"
      },
      "execution_count": 60,
      "outputs": [
        {
          "output_type": "execute_result",
          "data": {
            "text/plain": [
              "True"
            ]
          },
          "metadata": {},
          "execution_count": 60
        }
      ]
    },
    {
      "cell_type": "code",
      "source": [
        "nlp.vocab['favor'].is_stop = False"
      ],
      "metadata": {
        "id": "gAm2mo-_9L0F"
      },
      "execution_count": 61,
      "outputs": []
    },
    {
      "cell_type": "code",
      "source": [
        "nlp.vocab['favor'].is_stop"
      ],
      "metadata": {
        "colab": {
          "base_uri": "https://localhost:8080/"
        },
        "id": "zaQprXsA9POV",
        "outputId": "46a3a45d-ab83-45b5-f9d2-64d9e26e8ae5"
      },
      "execution_count": 62,
      "outputs": [
        {
          "output_type": "execute_result",
          "data": {
            "text/plain": [
              "False"
            ]
          },
          "metadata": {},
          "execution_count": 62
        }
      ]
    },
    {
      "cell_type": "code",
      "source": [
        "token_lista = []\n",
        "for token in documento: \n",
        "  token_lista.append(token.text)\n",
        "\n",
        "stop_lista = []\n",
        "for words in nlp.Defaults.stop_words:\n",
        "  stop_lista.append(words)\n",
        "\n",
        "semstop = [word for word in token_lista if not word in stop_lista]\n",
        "\n",
        "print(documento.text)\n",
        "print(semstop)\n"
      ],
      "metadata": {
        "colab": {
          "base_uri": "https://localhost:8080/"
        },
        "id": "Go7tLc-q9UFB",
        "outputId": "de2eb28d-5db3-48be-a7b8-aeca2214e024"
      },
      "execution_count": 63,
      "outputs": [
        {
          "output_type": "stream",
          "name": "stdout",
          "text": [
            "As ações do Magazine Luiza S.A., França, Brasil, acumularam baixa de 70% ao ano. Assim já devolveram todos os ganhos do período da pandemia\n",
            "['As', 'ações', 'Magazine', 'Luiza', 'S.A.', ',', 'França', ',', 'Brasil', ',', 'acumularam', 'baixa', '70', '%', 'ano', '.', 'Assim', 'devolveram', 'ganhos', 'período', 'pandemia']\n"
          ]
        }
      ]
    },
    {
      "cell_type": "code",
      "source": [
        "print('Hash: ', nlp.vocab.strings['dados'])\n",
        "print('Hash: ', documento.vocab.strings['dados'])\n",
        "print('String: ', nlp.vocab.strings[6013848609874238634])"
      ],
      "metadata": {
        "colab": {
          "base_uri": "https://localhost:8080/"
        },
        "id": "o1ZTy5P690DB",
        "outputId": "b3dc1881-8a46-4c82-fbed-e3611fa7375f"
      },
      "execution_count": 64,
      "outputs": [
        {
          "output_type": "stream",
          "name": "stdout",
          "text": [
            "Hash:  6013848609874238634\n",
            "Hash:  6013848609874238634\n",
            "String:  dados\n"
          ]
        }
      ]
    },
    {
      "cell_type": "code",
      "source": [
        "lex = nlp.vocab['dados']\n",
        "print(lex.text, ' - ', lex.orth, ' - ', lex.is_alpha, ' - ', lex.is_lower)"
      ],
      "metadata": {
        "colab": {
          "base_uri": "https://localhost:8080/"
        },
        "id": "mxCy3q7n-her",
        "outputId": "1c6a6cbe-819a-4d99-83fd-eb959ed3378c"
      },
      "execution_count": 65,
      "outputs": [
        {
          "output_type": "stream",
          "name": "stdout",
          "text": [
            "dados  -  6013848609874238634  -  True  -  True\n"
          ]
        }
      ]
    },
    {
      "cell_type": "code",
      "source": [
        "#print(nlp('dados').vector.shape)\n",
        "#print(nlp('dados').vector)\n",
        "print(nlp('dados são uma nova forma de ver o mundo').vector)  #traz uma média das palavras que formam esta frase com outras palavras"
      ],
      "metadata": {
        "colab": {
          "base_uri": "https://localhost:8080/"
        },
        "id": "bbe1ECVd-6Nl",
        "outputId": "983d1797-cb07-4bfe-d45e-8b6995684cbe"
      },
      "execution_count": 66,
      "outputs": [
        {
          "output_type": "stream",
          "name": "stdout",
          "text": [
            "[ 0.5255733  -1.0520301  -1.0489888   0.22808893 -2.7599888   0.91837215\n",
            " -1.6993556  -0.44524103 -2.209261   -1.2901455   0.9939946  -1.3996754\n",
            "  0.7378708  -1.6957022  -1.382649   -1.1241877   2.503239    1.3766589\n",
            " -0.63682556  2.7080245  -0.6679023   0.7990059  -1.3761922   1.6491444\n",
            " -0.6950322   0.69378555 -0.19840002  1.6926199  -0.3071023   0.71506053\n",
            "  0.03211441  0.27212894 -1.9055911  -1.5586021  -0.9775556   0.7999823\n",
            " -0.9553054   0.5265729  -0.87427455 -1.2073755  -2.117481    1.2241988\n",
            "  1.5149522  -0.79308677 -1.1521667   0.13741441 -1.7882053   0.50415283\n",
            "  1.3089666   0.06542712 -0.6260744  -1.5624356  -0.707184   -1.2425367\n",
            " -0.04237115 -0.5879791   1.7004043  -0.24798778  0.11633212 -0.55506223\n",
            "  2.0148706   0.01965364  0.92778563  2.3571968  -0.49526003  1.0151839\n",
            "  0.57112557  1.3510779  -0.3038622  -0.24523441 -0.42284998 -0.69732666\n",
            "  0.71998227  0.2875956   0.10309222 -0.6866155   2.128672    0.9791889\n",
            " -1.4044011  -0.4600078   0.10599887  0.84635675  1.2420444   0.40497887\n",
            "  0.24567226 -2.4633954   0.30174115 -1.2952554   0.5795323  -1.899822\n",
            " -0.74619776  2.998889    2.0798278  -0.9101444   0.27261782  0.3154811\n",
            "  3.1923532   1.315211   -3.1751957   0.03176559  1.1431444   1.6177245\n",
            " -1.0905743   0.6142689   1.0441045  -1.0070856  -0.6415578  -0.75415665\n",
            "  0.04653723 -0.7180089  -0.09737895  0.02209669 -0.43218002 -0.37869656\n",
            " -1.4787056  -0.8019056   2.2888644  -0.58004665 -0.35054     0.8161524\n",
            "  0.56656885 -3.1986172  -0.13080996 -0.87027764  0.19671117 -0.18788989\n",
            "  2.1433      0.5740978   0.79283893  1.1020746   0.06806201  0.14578162\n",
            " -0.48713335 -0.9247377   0.84602445  1.326062   -0.13929449 -2.2536204\n",
            "  0.8378011   1.8202833  -2.1101756   0.01467665 -0.1241987  -0.28894553\n",
            " -2.689321    0.35465997  1.3067889   0.78942555 -3.1275606  -0.70258003\n",
            "  1.1796956  -0.09419552 -0.39751524 -2.17274     0.00593225  0.11152443\n",
            " -0.40126875 -0.7324776  -1.110687   -1.6154889   1.9177108   0.59479684\n",
            " -0.9205568   1.6399556   2.1313922   0.8705971  -0.4869177  -2.5268655\n",
            " -0.20582779 -1.351448    1.0684322   1.0798033   0.7770678  -0.88195336\n",
            " -0.94633335 -1.6027511   2.097808   -0.44511667 -1.657932    1.3012689\n",
            "  1.4642056   0.07117888 -0.45494658  1.4971966   1.3140267  -0.48212782\n",
            "  1.0694442  -2.269592    1.3391188   1.5931556  -1.7781789  -1.465089\n",
            "  0.23485115 -2.34892     0.940096    0.5333122  -0.74473196 -1.2676699\n",
            " -0.40783006 -0.7384778  -2.09579     2.0488043  -1.182571    0.37707764\n",
            "  1.1301712   0.28928337  1.3739567  -1.0200423   1.2103223   0.04722336\n",
            "  1.3624822  -1.2681168   1.4688356   0.8132446  -1.719049    1.8276443\n",
            "  1.0804734  -0.31434     0.88836336 -0.67704093 -1.0336466  -0.9087268\n",
            "  0.09643783 -2.5777566  -0.08628993 -0.8835056  -0.5007     -2.010551\n",
            "  0.9359345  -1.839522   -0.45124334 -1.67075     0.1972278  -0.69528896\n",
            " -0.8587457  -0.25463215  0.23403136 -1.7613523   0.39325333  2.0033166\n",
            "  0.16394782 -0.5912411   0.4513964   0.38095444  0.9961722  -0.5356072\n",
            " -0.24399893  1.2084801   1.047721   -0.3533555  -0.68883884 -0.05879111\n",
            " -1.0547067  -0.9298345   0.1543278   0.22240782 -0.8161553   2.490319\n",
            " -1.5402923   0.59167856 -1.8444476   0.68242     2.5562222   0.99307674\n",
            "  0.02924996 -0.70853776 -1.0495977   0.13625993  2.1210868   1.4868933\n",
            "  3.163472   -0.43712902 -0.514627    2.9385633  -2.2680051   0.10609888\n",
            "  2.2179537   0.63511777  0.40360793 -1.1280782  -1.7189742  -0.46922117\n",
            "  2.9208887  -0.7004363  -0.36562064  1.1512333  -1.4175044  -0.44106555\n",
            " -0.48883343 -0.5042111   0.28768444  3.4773679  -1.2891389  -0.65457785\n",
            "  0.3968733  -1.9304742   2.1593056  -0.50640225 -1.4050981   1.26994   ]\n"
          ]
        }
      ]
    },
    {
      "cell_type": "markdown",
      "source": [
        "## Similaridade vs Matcher \n",
        "\n",
        "\n",
        "*   Similaridade: retorna um valor (métrica de similaridade)\n",
        "*   Matcher: busca um padrão, retorna se encrontra (semelhante a expressão regular)\n",
        "\n",
        "\n",
        "\n",
        "\n",
        "**Similaridade:**\n",
        "\n",
        "\n",
        "\n",
        "*   Busca semelhança de contexto\n",
        "*   Precisa do modelo Large do idioma\n",
        "*   Métrica é o coseno, valor entre 0 e 1\n",
        "*   Utiliza representação vetorial das palavras (word embeddings) (word2vec)\n",
        "*   Pode ser aplicado entre docs, spans e tokens\n",
        "\n",
        "\n",
        "Melhora de Performance:\n",
        "\n",
        "\n",
        "\n",
        "*   Sentenças menores (span)\n",
        "*   Utilizar outra função de similaridade (ex. sense2vec)\n",
        "*   Remover Stopwords, pontuação, pronomes\n",
        "\n",
        "\n",
        "\n",
        "\n",
        "\n",
        "\n",
        "\n",
        "\n"
      ],
      "metadata": {
        "id": "Q9X-7NwC_vY0"
      }
    },
    {
      "cell_type": "code",
      "source": [
        "documento1 = nlp('Ele viaja regularmente de carro')\n",
        "documento2 = nlp('Ela viaja regularmente de avião')\n",
        "print(documento1.similarity(documento2))"
      ],
      "metadata": {
        "colab": {
          "base_uri": "https://localhost:8080/"
        },
        "id": "iZmx7Iy__qm8",
        "outputId": "9d7556b8-0b1d-4679-c860-f79d0e342782"
      },
      "execution_count": 67,
      "outputs": [
        {
          "output_type": "stream",
          "name": "stdout",
          "text": [
            "0.894174124950273\n"
          ]
        }
      ]
    },
    {
      "cell_type": "code",
      "source": [
        "documento3 = nlp('Devemos dizer comprimento ou cumprimento')\n",
        "tokenA = documento3[2]\n",
        "print(tokenA)\n",
        "tokenB = documento3[4]\n",
        "print(tokenB)\n",
        "print(tokenA.similarity(tokenB))\n"
      ],
      "metadata": {
        "colab": {
          "base_uri": "https://localhost:8080/"
        },
        "id": "9NEOqvX4BuFO",
        "outputId": "86bd81bc-8782-40f5-ca66-7d79fa118ee2"
      },
      "execution_count": 68,
      "outputs": [
        {
          "output_type": "stream",
          "name": "stdout",
          "text": [
            "comprimento\n",
            "cumprimento\n",
            "0.5804340243339539\n"
          ]
        }
      ]
    },
    {
      "cell_type": "code",
      "source": [
        "documento4 = nlp('Ele pede descrição. Ele pede discrição')\n",
        "partA = documento4[:3]\n",
        "print(partA)\n",
        "partB = documento4[4:7]\n",
        "print(partB)\n",
        "print(partA.similarity(partB))"
      ],
      "metadata": {
        "colab": {
          "base_uri": "https://localhost:8080/"
        },
        "id": "cctwjZ4NCeGg",
        "outputId": "52df4cd7-10de-4111-87a4-eb623b52d0dd"
      },
      "execution_count": 69,
      "outputs": [
        {
          "output_type": "stream",
          "name": "stdout",
          "text": [
            "Ele pede descrição\n",
            "Ele pede discrição\n",
            "0.9630053639411926\n"
          ]
        }
      ]
    },
    {
      "cell_type": "code",
      "source": [
        "from spacy.matcher import Matcher\n",
        "\n",
        "documento5 = nlp('Você pode ligar para (51) - 9964532116 ou (11) 1232666')\n",
        "\n",
        "matcher = Matcher(nlp.vocab)\n",
        "padrao = [ {'ORTH':'('},{'SHAPE':'dd'},{'ORTH':')'}, {'ORTH':'-', 'OP':'?'},{'IS_DIGIT':True}]\n",
        "matcher.add('telefone',[padrao])\n",
        "matches = matcher(documento5)\n",
        "for id, inicio, fim in matches:\n",
        "  print(documento5[inicio:fim])"
      ],
      "metadata": {
        "colab": {
          "base_uri": "https://localhost:8080/"
        },
        "id": "WxhHtiMgJo98",
        "outputId": "49cf450c-bd4b-412c-8124-bdd70ce29074"
      },
      "execution_count": 70,
      "outputs": [
        {
          "output_type": "stream",
          "name": "stdout",
          "text": [
            "(51) - 9964532116\n",
            "(11) 1232666\n"
          ]
        }
      ]
    },
    {
      "cell_type": "code",
      "source": [
        "documento6 = nlp(\"Estamos infectados com micro organismos. MICROORGANISMOS são perigosos. Não enxergamos micro-organismos\")\n",
        "matcher = Matcher(nlp.vocab)\n",
        "padrao1 = [{'LOWER':'micro-organismos'}]\n",
        "padrao2 = [{'LOWER':'microorganismos'}]\n",
        "padrao3 = [{'LOWER':'micro'},{'LOWER':'organismos'}]\n",
        "\n",
        "matcher.add('padrão',[padrao1,padrao2,padrao3])\n",
        "matches = matcher(documento6)\n",
        "for id, inicio, fim in matches:\n",
        "  print(documento6[inicio:fim])"
      ],
      "metadata": {
        "colab": {
          "base_uri": "https://localhost:8080/"
        },
        "id": "_fmV36sxgMJG",
        "outputId": "0b214abb-4b0e-4170-e115-83fefdf783c3"
      },
      "execution_count": 72,
      "outputs": [
        {
          "output_type": "stream",
          "name": "stdout",
          "text": [
            "micro organismos\n",
            "MICROORGANISMOS\n",
            "micro-organismos\n"
          ]
        }
      ]
    },
    {
      "cell_type": "markdown",
      "source": [
        "## Displacy\n"
      ],
      "metadata": {
        "id": "zf94jYHgjX7I"
      }
    },
    {
      "cell_type": "code",
      "source": [
        "from spacy import displacy\n",
        "displacy.render(documento,style='ent', jupyter=True)"
      ],
      "metadata": {
        "colab": {
          "base_uri": "https://localhost:8080/",
          "height": 52
        },
        "id": "gdd-UEw3jU_l",
        "outputId": "ef115ef0-649b-4887-81d6-5e5f3d82aaea"
      },
      "execution_count": 79,
      "outputs": [
        {
          "output_type": "display_data",
          "data": {
            "text/plain": [
              "<IPython.core.display.HTML object>"
            ],
            "text/html": [
              "<span class=\"tex2jax_ignore\"><div class=\"entities\" style=\"line-height: 2.5; direction: ltr\">As ações do \n",
              "<mark class=\"entity\" style=\"background: #7aecec; padding: 0.45em 0.6em; margin: 0 0.25em; line-height: 1; border-radius: 0.35em;\">\n",
              "    Magazine Luiza S.A.\n",
              "    <span style=\"font-size: 0.8em; font-weight: bold; line-height: 1; border-radius: 0.35em; vertical-align: middle; margin-left: 0.5rem\">ORG</span>\n",
              "</mark>\n",
              ", \n",
              "<mark class=\"entity\" style=\"background: #ff9561; padding: 0.45em 0.6em; margin: 0 0.25em; line-height: 1; border-radius: 0.35em;\">\n",
              "    França\n",
              "    <span style=\"font-size: 0.8em; font-weight: bold; line-height: 1; border-radius: 0.35em; vertical-align: middle; margin-left: 0.5rem\">LOC</span>\n",
              "</mark>\n",
              ", \n",
              "<mark class=\"entity\" style=\"background: #ff9561; padding: 0.45em 0.6em; margin: 0 0.25em; line-height: 1; border-radius: 0.35em;\">\n",
              "    Brasil\n",
              "    <span style=\"font-size: 0.8em; font-weight: bold; line-height: 1; border-radius: 0.35em; vertical-align: middle; margin-left: 0.5rem\">LOC</span>\n",
              "</mark>\n",
              ", acumularam baixa de 70% ao ano. Assim já devolveram todos os ganhos do período da pandemia</div></span>"
            ]
          },
          "metadata": {}
        }
      ]
    },
    {
      "cell_type": "code",
      "source": [
        "displacy.render(documento,style='dep', jupyter=True,\n",
        "                options={'compact':True,'distance':100})"
      ],
      "metadata": {
        "colab": {
          "base_uri": "https://localhost:8080/",
          "height": 428
        },
        "id": "F6_Osa1qkDOD",
        "outputId": "0ae1d2ae-2f22-435b-cf66-e786a4aaaf5c"
      },
      "execution_count": 83,
      "outputs": [
        {
          "output_type": "display_data",
          "data": {
            "text/plain": [
              "<IPython.core.display.HTML object>"
            ],
            "text/html": [
              "<span class=\"tex2jax_ignore\"><svg xmlns=\"http://www.w3.org/2000/svg\" xmlns:xlink=\"http://www.w3.org/1999/xlink\" xml:lang=\"pt\" id=\"6e78ab184a5e4c9e89e30e2a8aa2cff7-0\" class=\"displacy\" width=\"2450\" height=\"387.0\" direction=\"ltr\" style=\"max-width: none; height: 387.0px; color: #000000; background: #ffffff; font-family: Arial; direction: ltr\">\n",
              "<text class=\"displacy-token\" fill=\"currentColor\" text-anchor=\"middle\" y=\"297.0\">\n",
              "    <tspan class=\"displacy-word\" fill=\"currentColor\" x=\"50\">As</tspan>\n",
              "    <tspan class=\"displacy-tag\" dy=\"2em\" fill=\"currentColor\" x=\"50\">DET</tspan>\n",
              "</text>\n",
              "\n",
              "<text class=\"displacy-token\" fill=\"currentColor\" text-anchor=\"middle\" y=\"297.0\">\n",
              "    <tspan class=\"displacy-word\" fill=\"currentColor\" x=\"150\">ações</tspan>\n",
              "    <tspan class=\"displacy-tag\" dy=\"2em\" fill=\"currentColor\" x=\"150\">NOUN</tspan>\n",
              "</text>\n",
              "\n",
              "<text class=\"displacy-token\" fill=\"currentColor\" text-anchor=\"middle\" y=\"297.0\">\n",
              "    <tspan class=\"displacy-word\" fill=\"currentColor\" x=\"250\">do</tspan>\n",
              "    <tspan class=\"displacy-tag\" dy=\"2em\" fill=\"currentColor\" x=\"250\">ADP</tspan>\n",
              "</text>\n",
              "\n",
              "<text class=\"displacy-token\" fill=\"currentColor\" text-anchor=\"middle\" y=\"297.0\">\n",
              "    <tspan class=\"displacy-word\" fill=\"currentColor\" x=\"350\">Magazine</tspan>\n",
              "    <tspan class=\"displacy-tag\" dy=\"2em\" fill=\"currentColor\" x=\"350\">PROPN</tspan>\n",
              "</text>\n",
              "\n",
              "<text class=\"displacy-token\" fill=\"currentColor\" text-anchor=\"middle\" y=\"297.0\">\n",
              "    <tspan class=\"displacy-word\" fill=\"currentColor\" x=\"450\">Luiza</tspan>\n",
              "    <tspan class=\"displacy-tag\" dy=\"2em\" fill=\"currentColor\" x=\"450\">PROPN</tspan>\n",
              "</text>\n",
              "\n",
              "<text class=\"displacy-token\" fill=\"currentColor\" text-anchor=\"middle\" y=\"297.0\">\n",
              "    <tspan class=\"displacy-word\" fill=\"currentColor\" x=\"550\">S.A.,</tspan>\n",
              "    <tspan class=\"displacy-tag\" dy=\"2em\" fill=\"currentColor\" x=\"550\">PROPN</tspan>\n",
              "</text>\n",
              "\n",
              "<text class=\"displacy-token\" fill=\"currentColor\" text-anchor=\"middle\" y=\"297.0\">\n",
              "    <tspan class=\"displacy-word\" fill=\"currentColor\" x=\"650\">França,</tspan>\n",
              "    <tspan class=\"displacy-tag\" dy=\"2em\" fill=\"currentColor\" x=\"650\">PROPN</tspan>\n",
              "</text>\n",
              "\n",
              "<text class=\"displacy-token\" fill=\"currentColor\" text-anchor=\"middle\" y=\"297.0\">\n",
              "    <tspan class=\"displacy-word\" fill=\"currentColor\" x=\"750\">Brasil,</tspan>\n",
              "    <tspan class=\"displacy-tag\" dy=\"2em\" fill=\"currentColor\" x=\"750\">PROPN</tspan>\n",
              "</text>\n",
              "\n",
              "<text class=\"displacy-token\" fill=\"currentColor\" text-anchor=\"middle\" y=\"297.0\">\n",
              "    <tspan class=\"displacy-word\" fill=\"currentColor\" x=\"850\">acumularam</tspan>\n",
              "    <tspan class=\"displacy-tag\" dy=\"2em\" fill=\"currentColor\" x=\"850\">VERB</tspan>\n",
              "</text>\n",
              "\n",
              "<text class=\"displacy-token\" fill=\"currentColor\" text-anchor=\"middle\" y=\"297.0\">\n",
              "    <tspan class=\"displacy-word\" fill=\"currentColor\" x=\"950\">baixa</tspan>\n",
              "    <tspan class=\"displacy-tag\" dy=\"2em\" fill=\"currentColor\" x=\"950\">NOUN</tspan>\n",
              "</text>\n",
              "\n",
              "<text class=\"displacy-token\" fill=\"currentColor\" text-anchor=\"middle\" y=\"297.0\">\n",
              "    <tspan class=\"displacy-word\" fill=\"currentColor\" x=\"1050\">de</tspan>\n",
              "    <tspan class=\"displacy-tag\" dy=\"2em\" fill=\"currentColor\" x=\"1050\">ADP</tspan>\n",
              "</text>\n",
              "\n",
              "<text class=\"displacy-token\" fill=\"currentColor\" text-anchor=\"middle\" y=\"297.0\">\n",
              "    <tspan class=\"displacy-word\" fill=\"currentColor\" x=\"1150\">70%</tspan>\n",
              "    <tspan class=\"displacy-tag\" dy=\"2em\" fill=\"currentColor\" x=\"1150\">SYM</tspan>\n",
              "</text>\n",
              "\n",
              "<text class=\"displacy-token\" fill=\"currentColor\" text-anchor=\"middle\" y=\"297.0\">\n",
              "    <tspan class=\"displacy-word\" fill=\"currentColor\" x=\"1250\">ao</tspan>\n",
              "    <tspan class=\"displacy-tag\" dy=\"2em\" fill=\"currentColor\" x=\"1250\">ADP</tspan>\n",
              "</text>\n",
              "\n",
              "<text class=\"displacy-token\" fill=\"currentColor\" text-anchor=\"middle\" y=\"297.0\">\n",
              "    <tspan class=\"displacy-word\" fill=\"currentColor\" x=\"1350\">ano.</tspan>\n",
              "    <tspan class=\"displacy-tag\" dy=\"2em\" fill=\"currentColor\" x=\"1350\">NOUN</tspan>\n",
              "</text>\n",
              "\n",
              "<text class=\"displacy-token\" fill=\"currentColor\" text-anchor=\"middle\" y=\"297.0\">\n",
              "    <tspan class=\"displacy-word\" fill=\"currentColor\" x=\"1450\">Assim</tspan>\n",
              "    <tspan class=\"displacy-tag\" dy=\"2em\" fill=\"currentColor\" x=\"1450\">ADV</tspan>\n",
              "</text>\n",
              "\n",
              "<text class=\"displacy-token\" fill=\"currentColor\" text-anchor=\"middle\" y=\"297.0\">\n",
              "    <tspan class=\"displacy-word\" fill=\"currentColor\" x=\"1550\">já</tspan>\n",
              "    <tspan class=\"displacy-tag\" dy=\"2em\" fill=\"currentColor\" x=\"1550\">ADV</tspan>\n",
              "</text>\n",
              "\n",
              "<text class=\"displacy-token\" fill=\"currentColor\" text-anchor=\"middle\" y=\"297.0\">\n",
              "    <tspan class=\"displacy-word\" fill=\"currentColor\" x=\"1650\">devolveram</tspan>\n",
              "    <tspan class=\"displacy-tag\" dy=\"2em\" fill=\"currentColor\" x=\"1650\">VERB</tspan>\n",
              "</text>\n",
              "\n",
              "<text class=\"displacy-token\" fill=\"currentColor\" text-anchor=\"middle\" y=\"297.0\">\n",
              "    <tspan class=\"displacy-word\" fill=\"currentColor\" x=\"1750\">todos</tspan>\n",
              "    <tspan class=\"displacy-tag\" dy=\"2em\" fill=\"currentColor\" x=\"1750\">DET</tspan>\n",
              "</text>\n",
              "\n",
              "<text class=\"displacy-token\" fill=\"currentColor\" text-anchor=\"middle\" y=\"297.0\">\n",
              "    <tspan class=\"displacy-word\" fill=\"currentColor\" x=\"1850\">os</tspan>\n",
              "    <tspan class=\"displacy-tag\" dy=\"2em\" fill=\"currentColor\" x=\"1850\">DET</tspan>\n",
              "</text>\n",
              "\n",
              "<text class=\"displacy-token\" fill=\"currentColor\" text-anchor=\"middle\" y=\"297.0\">\n",
              "    <tspan class=\"displacy-word\" fill=\"currentColor\" x=\"1950\">ganhos</tspan>\n",
              "    <tspan class=\"displacy-tag\" dy=\"2em\" fill=\"currentColor\" x=\"1950\">NOUN</tspan>\n",
              "</text>\n",
              "\n",
              "<text class=\"displacy-token\" fill=\"currentColor\" text-anchor=\"middle\" y=\"297.0\">\n",
              "    <tspan class=\"displacy-word\" fill=\"currentColor\" x=\"2050\">do</tspan>\n",
              "    <tspan class=\"displacy-tag\" dy=\"2em\" fill=\"currentColor\" x=\"2050\">ADP</tspan>\n",
              "</text>\n",
              "\n",
              "<text class=\"displacy-token\" fill=\"currentColor\" text-anchor=\"middle\" y=\"297.0\">\n",
              "    <tspan class=\"displacy-word\" fill=\"currentColor\" x=\"2150\">período</tspan>\n",
              "    <tspan class=\"displacy-tag\" dy=\"2em\" fill=\"currentColor\" x=\"2150\">NOUN</tspan>\n",
              "</text>\n",
              "\n",
              "<text class=\"displacy-token\" fill=\"currentColor\" text-anchor=\"middle\" y=\"297.0\">\n",
              "    <tspan class=\"displacy-word\" fill=\"currentColor\" x=\"2250\">da</tspan>\n",
              "    <tspan class=\"displacy-tag\" dy=\"2em\" fill=\"currentColor\" x=\"2250\">ADP</tspan>\n",
              "</text>\n",
              "\n",
              "<text class=\"displacy-token\" fill=\"currentColor\" text-anchor=\"middle\" y=\"297.0\">\n",
              "    <tspan class=\"displacy-word\" fill=\"currentColor\" x=\"2350\">pandemia</tspan>\n",
              "    <tspan class=\"displacy-tag\" dy=\"2em\" fill=\"currentColor\" x=\"2350\">NOUN</tspan>\n",
              "</text>\n",
              "\n",
              "<g class=\"displacy-arrow\">\n",
              "    <path class=\"displacy-arc\" id=\"arrow-6e78ab184a5e4c9e89e30e2a8aa2cff7-0-0\" stroke-width=\"2px\" d=\"M62,252.0 62,235.33333333333334 138.0,235.33333333333334 138.0,252.0\" fill=\"none\" stroke=\"currentColor\"/>\n",
              "    <text dy=\"1.25em\" style=\"font-size: 0.8em; letter-spacing: 1px\">\n",
              "        <textPath xlink:href=\"#arrow-6e78ab184a5e4c9e89e30e2a8aa2cff7-0-0\" class=\"displacy-label\" startOffset=\"50%\" side=\"left\" fill=\"currentColor\" text-anchor=\"middle\">det</textPath>\n",
              "    </text>\n",
              "    <path class=\"displacy-arrowhead\" d=\"M62,254.0 L58,246.0 66,246.0\" fill=\"currentColor\"/>\n",
              "</g>\n",
              "\n",
              "<g class=\"displacy-arrow\">\n",
              "    <path class=\"displacy-arc\" id=\"arrow-6e78ab184a5e4c9e89e30e2a8aa2cff7-0-1\" stroke-width=\"2px\" d=\"M162,252.0 162,168.66666666666669 850.0,168.66666666666669 850.0,252.0\" fill=\"none\" stroke=\"currentColor\"/>\n",
              "    <text dy=\"1.25em\" style=\"font-size: 0.8em; letter-spacing: 1px\">\n",
              "        <textPath xlink:href=\"#arrow-6e78ab184a5e4c9e89e30e2a8aa2cff7-0-1\" class=\"displacy-label\" startOffset=\"50%\" side=\"left\" fill=\"currentColor\" text-anchor=\"middle\">nsubj</textPath>\n",
              "    </text>\n",
              "    <path class=\"displacy-arrowhead\" d=\"M162,254.0 L158,246.0 166,246.0\" fill=\"currentColor\"/>\n",
              "</g>\n",
              "\n",
              "<g class=\"displacy-arrow\">\n",
              "    <path class=\"displacy-arc\" id=\"arrow-6e78ab184a5e4c9e89e30e2a8aa2cff7-0-2\" stroke-width=\"2px\" d=\"M262,252.0 262,235.33333333333334 338.0,235.33333333333334 338.0,252.0\" fill=\"none\" stroke=\"currentColor\"/>\n",
              "    <text dy=\"1.25em\" style=\"font-size: 0.8em; letter-spacing: 1px\">\n",
              "        <textPath xlink:href=\"#arrow-6e78ab184a5e4c9e89e30e2a8aa2cff7-0-2\" class=\"displacy-label\" startOffset=\"50%\" side=\"left\" fill=\"currentColor\" text-anchor=\"middle\">case</textPath>\n",
              "    </text>\n",
              "    <path class=\"displacy-arrowhead\" d=\"M262,254.0 L258,246.0 266,246.0\" fill=\"currentColor\"/>\n",
              "</g>\n",
              "\n",
              "<g class=\"displacy-arrow\">\n",
              "    <path class=\"displacy-arc\" id=\"arrow-6e78ab184a5e4c9e89e30e2a8aa2cff7-0-3\" stroke-width=\"2px\" d=\"M162,252.0 162,218.66666666666666 341.0,218.66666666666666 341.0,252.0\" fill=\"none\" stroke=\"currentColor\"/>\n",
              "    <text dy=\"1.25em\" style=\"font-size: 0.8em; letter-spacing: 1px\">\n",
              "        <textPath xlink:href=\"#arrow-6e78ab184a5e4c9e89e30e2a8aa2cff7-0-3\" class=\"displacy-label\" startOffset=\"50%\" side=\"left\" fill=\"currentColor\" text-anchor=\"middle\">nmod</textPath>\n",
              "    </text>\n",
              "    <path class=\"displacy-arrowhead\" d=\"M341.0,254.0 L345.0,246.0 337.0,246.0\" fill=\"currentColor\"/>\n",
              "</g>\n",
              "\n",
              "<g class=\"displacy-arrow\">\n",
              "    <path class=\"displacy-arc\" id=\"arrow-6e78ab184a5e4c9e89e30e2a8aa2cff7-0-4\" stroke-width=\"2px\" d=\"M362,252.0 362,235.33333333333334 438.0,235.33333333333334 438.0,252.0\" fill=\"none\" stroke=\"currentColor\"/>\n",
              "    <text dy=\"1.25em\" style=\"font-size: 0.8em; letter-spacing: 1px\">\n",
              "        <textPath xlink:href=\"#arrow-6e78ab184a5e4c9e89e30e2a8aa2cff7-0-4\" class=\"displacy-label\" startOffset=\"50%\" side=\"left\" fill=\"currentColor\" text-anchor=\"middle\">flat:name</textPath>\n",
              "    </text>\n",
              "    <path class=\"displacy-arrowhead\" d=\"M438.0,254.0 L442.0,246.0 434.0,246.0\" fill=\"currentColor\"/>\n",
              "</g>\n",
              "\n",
              "<g class=\"displacy-arrow\">\n",
              "    <path class=\"displacy-arc\" id=\"arrow-6e78ab184a5e4c9e89e30e2a8aa2cff7-0-5\" stroke-width=\"2px\" d=\"M362,252.0 362,218.66666666666666 541.0,218.66666666666666 541.0,252.0\" fill=\"none\" stroke=\"currentColor\"/>\n",
              "    <text dy=\"1.25em\" style=\"font-size: 0.8em; letter-spacing: 1px\">\n",
              "        <textPath xlink:href=\"#arrow-6e78ab184a5e4c9e89e30e2a8aa2cff7-0-5\" class=\"displacy-label\" startOffset=\"50%\" side=\"left\" fill=\"currentColor\" text-anchor=\"middle\">flat:name</textPath>\n",
              "    </text>\n",
              "    <path class=\"displacy-arrowhead\" d=\"M541.0,254.0 L545.0,246.0 537.0,246.0\" fill=\"currentColor\"/>\n",
              "</g>\n",
              "\n",
              "<g class=\"displacy-arrow\">\n",
              "    <path class=\"displacy-arc\" id=\"arrow-6e78ab184a5e4c9e89e30e2a8aa2cff7-0-6\" stroke-width=\"2px\" d=\"M362,252.0 362,202.0 644.0,202.0 644.0,252.0\" fill=\"none\" stroke=\"currentColor\"/>\n",
              "    <text dy=\"1.25em\" style=\"font-size: 0.8em; letter-spacing: 1px\">\n",
              "        <textPath xlink:href=\"#arrow-6e78ab184a5e4c9e89e30e2a8aa2cff7-0-6\" class=\"displacy-label\" startOffset=\"50%\" side=\"left\" fill=\"currentColor\" text-anchor=\"middle\">conj</textPath>\n",
              "    </text>\n",
              "    <path class=\"displacy-arrowhead\" d=\"M644.0,254.0 L648.0,246.0 640.0,246.0\" fill=\"currentColor\"/>\n",
              "</g>\n",
              "\n",
              "<g class=\"displacy-arrow\">\n",
              "    <path class=\"displacy-arc\" id=\"arrow-6e78ab184a5e4c9e89e30e2a8aa2cff7-0-7\" stroke-width=\"2px\" d=\"M362,252.0 362,185.33333333333331 747.0,185.33333333333331 747.0,252.0\" fill=\"none\" stroke=\"currentColor\"/>\n",
              "    <text dy=\"1.25em\" style=\"font-size: 0.8em; letter-spacing: 1px\">\n",
              "        <textPath xlink:href=\"#arrow-6e78ab184a5e4c9e89e30e2a8aa2cff7-0-7\" class=\"displacy-label\" startOffset=\"50%\" side=\"left\" fill=\"currentColor\" text-anchor=\"middle\">conj</textPath>\n",
              "    </text>\n",
              "    <path class=\"displacy-arrowhead\" d=\"M747.0,254.0 L751.0,246.0 743.0,246.0\" fill=\"currentColor\"/>\n",
              "</g>\n",
              "\n",
              "<g class=\"displacy-arrow\">\n",
              "    <path class=\"displacy-arc\" id=\"arrow-6e78ab184a5e4c9e89e30e2a8aa2cff7-0-8\" stroke-width=\"2px\" d=\"M862,252.0 862,235.33333333333334 938.0,235.33333333333334 938.0,252.0\" fill=\"none\" stroke=\"currentColor\"/>\n",
              "    <text dy=\"1.25em\" style=\"font-size: 0.8em; letter-spacing: 1px\">\n",
              "        <textPath xlink:href=\"#arrow-6e78ab184a5e4c9e89e30e2a8aa2cff7-0-8\" class=\"displacy-label\" startOffset=\"50%\" side=\"left\" fill=\"currentColor\" text-anchor=\"middle\">obj</textPath>\n",
              "    </text>\n",
              "    <path class=\"displacy-arrowhead\" d=\"M938.0,254.0 L942.0,246.0 934.0,246.0\" fill=\"currentColor\"/>\n",
              "</g>\n",
              "\n",
              "<g class=\"displacy-arrow\">\n",
              "    <path class=\"displacy-arc\" id=\"arrow-6e78ab184a5e4c9e89e30e2a8aa2cff7-0-9\" stroke-width=\"2px\" d=\"M1062,252.0 1062,235.33333333333334 1138.0,235.33333333333334 1138.0,252.0\" fill=\"none\" stroke=\"currentColor\"/>\n",
              "    <text dy=\"1.25em\" style=\"font-size: 0.8em; letter-spacing: 1px\">\n",
              "        <textPath xlink:href=\"#arrow-6e78ab184a5e4c9e89e30e2a8aa2cff7-0-9\" class=\"displacy-label\" startOffset=\"50%\" side=\"left\" fill=\"currentColor\" text-anchor=\"middle\">case</textPath>\n",
              "    </text>\n",
              "    <path class=\"displacy-arrowhead\" d=\"M1062,254.0 L1058,246.0 1066,246.0\" fill=\"currentColor\"/>\n",
              "</g>\n",
              "\n",
              "<g class=\"displacy-arrow\">\n",
              "    <path class=\"displacy-arc\" id=\"arrow-6e78ab184a5e4c9e89e30e2a8aa2cff7-0-10\" stroke-width=\"2px\" d=\"M962,252.0 962,218.66666666666666 1141.0,218.66666666666666 1141.0,252.0\" fill=\"none\" stroke=\"currentColor\"/>\n",
              "    <text dy=\"1.25em\" style=\"font-size: 0.8em; letter-spacing: 1px\">\n",
              "        <textPath xlink:href=\"#arrow-6e78ab184a5e4c9e89e30e2a8aa2cff7-0-10\" class=\"displacy-label\" startOffset=\"50%\" side=\"left\" fill=\"currentColor\" text-anchor=\"middle\">nmod</textPath>\n",
              "    </text>\n",
              "    <path class=\"displacy-arrowhead\" d=\"M1141.0,254.0 L1145.0,246.0 1137.0,246.0\" fill=\"currentColor\"/>\n",
              "</g>\n",
              "\n",
              "<g class=\"displacy-arrow\">\n",
              "    <path class=\"displacy-arc\" id=\"arrow-6e78ab184a5e4c9e89e30e2a8aa2cff7-0-11\" stroke-width=\"2px\" d=\"M1262,252.0 1262,235.33333333333334 1338.0,235.33333333333334 1338.0,252.0\" fill=\"none\" stroke=\"currentColor\"/>\n",
              "    <text dy=\"1.25em\" style=\"font-size: 0.8em; letter-spacing: 1px\">\n",
              "        <textPath xlink:href=\"#arrow-6e78ab184a5e4c9e89e30e2a8aa2cff7-0-11\" class=\"displacy-label\" startOffset=\"50%\" side=\"left\" fill=\"currentColor\" text-anchor=\"middle\">case</textPath>\n",
              "    </text>\n",
              "    <path class=\"displacy-arrowhead\" d=\"M1262,254.0 L1258,246.0 1266,246.0\" fill=\"currentColor\"/>\n",
              "</g>\n",
              "\n",
              "<g class=\"displacy-arrow\">\n",
              "    <path class=\"displacy-arc\" id=\"arrow-6e78ab184a5e4c9e89e30e2a8aa2cff7-0-12\" stroke-width=\"2px\" d=\"M862,252.0 862,202.0 1344.0,202.0 1344.0,252.0\" fill=\"none\" stroke=\"currentColor\"/>\n",
              "    <text dy=\"1.25em\" style=\"font-size: 0.8em; letter-spacing: 1px\">\n",
              "        <textPath xlink:href=\"#arrow-6e78ab184a5e4c9e89e30e2a8aa2cff7-0-12\" class=\"displacy-label\" startOffset=\"50%\" side=\"left\" fill=\"currentColor\" text-anchor=\"middle\">obl</textPath>\n",
              "    </text>\n",
              "    <path class=\"displacy-arrowhead\" d=\"M1344.0,254.0 L1348.0,246.0 1340.0,246.0\" fill=\"currentColor\"/>\n",
              "</g>\n",
              "\n",
              "<g class=\"displacy-arrow\">\n",
              "    <path class=\"displacy-arc\" id=\"arrow-6e78ab184a5e4c9e89e30e2a8aa2cff7-0-13\" stroke-width=\"2px\" d=\"M1462,252.0 1462,218.66666666666666 1641.0,218.66666666666666 1641.0,252.0\" fill=\"none\" stroke=\"currentColor\"/>\n",
              "    <text dy=\"1.25em\" style=\"font-size: 0.8em; letter-spacing: 1px\">\n",
              "        <textPath xlink:href=\"#arrow-6e78ab184a5e4c9e89e30e2a8aa2cff7-0-13\" class=\"displacy-label\" startOffset=\"50%\" side=\"left\" fill=\"currentColor\" text-anchor=\"middle\">advmod</textPath>\n",
              "    </text>\n",
              "    <path class=\"displacy-arrowhead\" d=\"M1462,254.0 L1458,246.0 1466,246.0\" fill=\"currentColor\"/>\n",
              "</g>\n",
              "\n",
              "<g class=\"displacy-arrow\">\n",
              "    <path class=\"displacy-arc\" id=\"arrow-6e78ab184a5e4c9e89e30e2a8aa2cff7-0-14\" stroke-width=\"2px\" d=\"M1562,252.0 1562,235.33333333333334 1638.0,235.33333333333334 1638.0,252.0\" fill=\"none\" stroke=\"currentColor\"/>\n",
              "    <text dy=\"1.25em\" style=\"font-size: 0.8em; letter-spacing: 1px\">\n",
              "        <textPath xlink:href=\"#arrow-6e78ab184a5e4c9e89e30e2a8aa2cff7-0-14\" class=\"displacy-label\" startOffset=\"50%\" side=\"left\" fill=\"currentColor\" text-anchor=\"middle\">advmod</textPath>\n",
              "    </text>\n",
              "    <path class=\"displacy-arrowhead\" d=\"M1562,254.0 L1558,246.0 1566,246.0\" fill=\"currentColor\"/>\n",
              "</g>\n",
              "\n",
              "<g class=\"displacy-arrow\">\n",
              "    <path class=\"displacy-arc\" id=\"arrow-6e78ab184a5e4c9e89e30e2a8aa2cff7-0-15\" stroke-width=\"2px\" d=\"M1762,252.0 1762,218.66666666666666 1941.0,218.66666666666666 1941.0,252.0\" fill=\"none\" stroke=\"currentColor\"/>\n",
              "    <text dy=\"1.25em\" style=\"font-size: 0.8em; letter-spacing: 1px\">\n",
              "        <textPath xlink:href=\"#arrow-6e78ab184a5e4c9e89e30e2a8aa2cff7-0-15\" class=\"displacy-label\" startOffset=\"50%\" side=\"left\" fill=\"currentColor\" text-anchor=\"middle\">det</textPath>\n",
              "    </text>\n",
              "    <path class=\"displacy-arrowhead\" d=\"M1762,254.0 L1758,246.0 1766,246.0\" fill=\"currentColor\"/>\n",
              "</g>\n",
              "\n",
              "<g class=\"displacy-arrow\">\n",
              "    <path class=\"displacy-arc\" id=\"arrow-6e78ab184a5e4c9e89e30e2a8aa2cff7-0-16\" stroke-width=\"2px\" d=\"M1862,252.0 1862,235.33333333333334 1938.0,235.33333333333334 1938.0,252.0\" fill=\"none\" stroke=\"currentColor\"/>\n",
              "    <text dy=\"1.25em\" style=\"font-size: 0.8em; letter-spacing: 1px\">\n",
              "        <textPath xlink:href=\"#arrow-6e78ab184a5e4c9e89e30e2a8aa2cff7-0-16\" class=\"displacy-label\" startOffset=\"50%\" side=\"left\" fill=\"currentColor\" text-anchor=\"middle\">det</textPath>\n",
              "    </text>\n",
              "    <path class=\"displacy-arrowhead\" d=\"M1862,254.0 L1858,246.0 1866,246.0\" fill=\"currentColor\"/>\n",
              "</g>\n",
              "\n",
              "<g class=\"displacy-arrow\">\n",
              "    <path class=\"displacy-arc\" id=\"arrow-6e78ab184a5e4c9e89e30e2a8aa2cff7-0-17\" stroke-width=\"2px\" d=\"M1662,252.0 1662,202.0 1944.0,202.0 1944.0,252.0\" fill=\"none\" stroke=\"currentColor\"/>\n",
              "    <text dy=\"1.25em\" style=\"font-size: 0.8em; letter-spacing: 1px\">\n",
              "        <textPath xlink:href=\"#arrow-6e78ab184a5e4c9e89e30e2a8aa2cff7-0-17\" class=\"displacy-label\" startOffset=\"50%\" side=\"left\" fill=\"currentColor\" text-anchor=\"middle\">obj</textPath>\n",
              "    </text>\n",
              "    <path class=\"displacy-arrowhead\" d=\"M1944.0,254.0 L1948.0,246.0 1940.0,246.0\" fill=\"currentColor\"/>\n",
              "</g>\n",
              "\n",
              "<g class=\"displacy-arrow\">\n",
              "    <path class=\"displacy-arc\" id=\"arrow-6e78ab184a5e4c9e89e30e2a8aa2cff7-0-18\" stroke-width=\"2px\" d=\"M2062,252.0 2062,235.33333333333334 2138.0,235.33333333333334 2138.0,252.0\" fill=\"none\" stroke=\"currentColor\"/>\n",
              "    <text dy=\"1.25em\" style=\"font-size: 0.8em; letter-spacing: 1px\">\n",
              "        <textPath xlink:href=\"#arrow-6e78ab184a5e4c9e89e30e2a8aa2cff7-0-18\" class=\"displacy-label\" startOffset=\"50%\" side=\"left\" fill=\"currentColor\" text-anchor=\"middle\">case</textPath>\n",
              "    </text>\n",
              "    <path class=\"displacy-arrowhead\" d=\"M2062,254.0 L2058,246.0 2066,246.0\" fill=\"currentColor\"/>\n",
              "</g>\n",
              "\n",
              "<g class=\"displacy-arrow\">\n",
              "    <path class=\"displacy-arc\" id=\"arrow-6e78ab184a5e4c9e89e30e2a8aa2cff7-0-19\" stroke-width=\"2px\" d=\"M1962,252.0 1962,218.66666666666666 2141.0,218.66666666666666 2141.0,252.0\" fill=\"none\" stroke=\"currentColor\"/>\n",
              "    <text dy=\"1.25em\" style=\"font-size: 0.8em; letter-spacing: 1px\">\n",
              "        <textPath xlink:href=\"#arrow-6e78ab184a5e4c9e89e30e2a8aa2cff7-0-19\" class=\"displacy-label\" startOffset=\"50%\" side=\"left\" fill=\"currentColor\" text-anchor=\"middle\">nmod</textPath>\n",
              "    </text>\n",
              "    <path class=\"displacy-arrowhead\" d=\"M2141.0,254.0 L2145.0,246.0 2137.0,246.0\" fill=\"currentColor\"/>\n",
              "</g>\n",
              "\n",
              "<g class=\"displacy-arrow\">\n",
              "    <path class=\"displacy-arc\" id=\"arrow-6e78ab184a5e4c9e89e30e2a8aa2cff7-0-20\" stroke-width=\"2px\" d=\"M2262,252.0 2262,235.33333333333334 2338.0,235.33333333333334 2338.0,252.0\" fill=\"none\" stroke=\"currentColor\"/>\n",
              "    <text dy=\"1.25em\" style=\"font-size: 0.8em; letter-spacing: 1px\">\n",
              "        <textPath xlink:href=\"#arrow-6e78ab184a5e4c9e89e30e2a8aa2cff7-0-20\" class=\"displacy-label\" startOffset=\"50%\" side=\"left\" fill=\"currentColor\" text-anchor=\"middle\">case</textPath>\n",
              "    </text>\n",
              "    <path class=\"displacy-arrowhead\" d=\"M2262,254.0 L2258,246.0 2266,246.0\" fill=\"currentColor\"/>\n",
              "</g>\n",
              "\n",
              "<g class=\"displacy-arrow\">\n",
              "    <path class=\"displacy-arc\" id=\"arrow-6e78ab184a5e4c9e89e30e2a8aa2cff7-0-21\" stroke-width=\"2px\" d=\"M2162,252.0 2162,218.66666666666666 2341.0,218.66666666666666 2341.0,252.0\" fill=\"none\" stroke=\"currentColor\"/>\n",
              "    <text dy=\"1.25em\" style=\"font-size: 0.8em; letter-spacing: 1px\">\n",
              "        <textPath xlink:href=\"#arrow-6e78ab184a5e4c9e89e30e2a8aa2cff7-0-21\" class=\"displacy-label\" startOffset=\"50%\" side=\"left\" fill=\"currentColor\" text-anchor=\"middle\">nmod</textPath>\n",
              "    </text>\n",
              "    <path class=\"displacy-arrowhead\" d=\"M2341.0,254.0 L2345.0,246.0 2337.0,246.0\" fill=\"currentColor\"/>\n",
              "</g>\n",
              "</svg></span>"
            ]
          },
          "metadata": {}
        }
      ]
    },
    {
      "cell_type": "code",
      "source": [
        ""
      ],
      "metadata": {
        "id": "YhEFYqdKk_16"
      },
      "execution_count": null,
      "outputs": []
    }
  ]
}